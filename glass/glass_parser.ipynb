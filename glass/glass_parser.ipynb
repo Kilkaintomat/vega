{
 "cells": [
  {
   "cell_type": "code",
   "execution_count": 6,
   "metadata": {},
   "outputs": [],
   "source": [
    "import pandas as pd\n",
    "import numpy as np\n",
    "import json\n"
   ]
  },
  {
   "cell_type": "code",
   "execution_count": 1,
   "metadata": {},
   "outputs": [],
   "source": [
    "with open('CNH_RUB_T+1__2022-10-20', 'r') as file:\n",
    "    data_str = file.read()"
   ]
  },
  {
   "cell_type": "code",
   "execution_count": 2,
   "metadata": {},
   "outputs": [],
   "source": [
    "data_objects = data_str.split('\\n')"
   ]
  },
  {
   "cell_type": "code",
   "execution_count": 3,
   "metadata": {},
   "outputs": [
    {
     "name": "stdout",
     "output_type": "stream",
     "text": [
      "['{\"date\":\"2022-10-20T00:11:53.947000001\",\"instrument\":\"CNH/RUB_T+1\",\"type\":\"SNAPSHOT\",\"side\":\"BID\",\"quotes\": []}', '{\"date\":\"2022-10-20T00:11:53.947000001\",\"instrument\":\"CNH/RUB_T+1\",\"type\":\"SNAPSHOT\",\"side\":\"ASK\",\"quotes\": []}', '{\"date\":\"2022-10-20T07:00:00.024\",\"instrument\":\"CNH/RUB_T+1\",\"type\":\"INCREMENT\",\"side\":\"BID\",\"quotes\":{\"added\":[{\"id\":843503,\"price\":8.435,\"size\":180000.0}],\"changed\":[],\"deleted\":[]}}', '{\"date\":\"2022-10-20T07:00:00.024\",\"instrument\":\"CNH/RUB_T+1\",\"type\":\"INCREMENT\",\"side\":\"ASK\",\"quotes\":{\"added\":[],\"changed\":[],\"deleted\":[]}}', '{\"date\":\"2022-10-20T07:00:00.025\",\"instrument\":\"CNH/RUB_T+1\",\"type\":\"INCREMENT\",\"side\":\"BID\",\"quotes\":{\"added\":[],\"changed\":[{\"id\":843503,\"price\":8.435,\"size\":580000.0}],\"deleted\":[]}}', '{\"date\":\"2022-10-20T07:00:00.025\",\"instrument\":\"CNH/RUB_T+1\",\"type\":\"INCREMENT\",\"side\":\"ASK\",\"quotes\":{\"added\":[{\"id\":847303,\"price\":8.473,\"size\":180000.0}],\"changed\":[],\"deleted\":[]}}', '{\"date\":\"2022-10-20T07:00:00.025000002\",\"instrument\":\"CNH/RUB_T+1\",\"type\":\"INCREMENT\",\"side\":\"BID\",\"quotes\":{\"added\":[],\"changed\":[{\"id\":843503,\"price\":8.435,\"size\":780000.0}],\"deleted\":[]}}', '{\"date\":\"2022-10-20T07:00:00.025000002\",\"instrument\":\"CNH/RUB_T+1\",\"type\":\"INCREMENT\",\"side\":\"ASK\",\"quotes\":{\"added\":[],\"changed\":[{\"id\":847303,\"price\":8.473,\"size\":780000.0}],\"deleted\":[]}}', '{\"date\":\"2022-10-20T07:00:00.026000003\",\"instrument\":\"CNH/RUB_T+1\",\"type\":\"INCREMENT\",\"side\":\"BID\",\"quotes\":{\"added\":[{\"id\":829203,\"price\":8.292,\"size\":1010000.0}],\"changed\":[],\"deleted\":[]}}', '{\"date\":\"2022-10-20T07:00:00.026000003\",\"instrument\":\"CNH/RUB_T+1\",\"type\":\"INCREMENT\",\"side\":\"ASK\",\"quotes\":{\"added\":[],\"changed\":[],\"deleted\":[]}}', '{\"date\":\"2022-10-20T07:00:00.026000006\",\"instrument\":\"CNH/RUB_T+1\",\"type\":\"INCREMENT\",\"side\":\"BID\",\"quotes\":{\"added\":[{\"id\":833103,\"price\":8.331,\"size\":3030000.0}],\"changed\":[],\"deleted\":[829203]}}', '{\"date\":\"2022-10-20T07:00:00.026000006\",\"instrument\":\"CNH/RUB_T+1\",\"type\":\"INCREMENT\",\"side\":\"ASK\",\"quotes\":{\"added\":[],\"changed\":[],\"deleted\":[]}}', '{\"date\":\"2022-10-20T07:00:00.027000003\",\"instrument\":\"CNH/RUB_T+1\",\"type\":\"INCREMENT\",\"side\":\"BID\",\"quotes\":{\"added\":[],\"changed\":[],\"deleted\":[]}}', '{\"date\":\"2022-10-20T07:00:00.027000003\",\"instrument\":\"CNH/RUB_T+1\",\"type\":\"INCREMENT\",\"side\":\"ASK\",\"quotes\":{\"added\":[{\"id\":857903,\"price\":8.579,\"size\":3030000.0}],\"changed\":[],\"deleted\":[]}}', '{\"date\":\"2022-10-20T07:00:00.028000002\",\"instrument\":\"CNH/RUB_T+1\",\"type\":\"INCREMENT\",\"side\":\"BID\",\"quotes\":{\"added\":[],\"changed\":[],\"deleted\":[]}}', '{\"date\":\"2022-10-20T07:00:00.028000002\",\"instrument\":\"CNH/RUB_T+1\",\"type\":\"INCREMENT\",\"side\":\"ASK\",\"quotes\":{\"added\":[{\"id\":856903,\"price\":8.569,\"size\":1010000.0}],\"changed\":[],\"deleted\":[857903]}}', '{\"date\":\"2022-10-20T07:00:00.031000001\",\"instrument\":\"CNH/RUB_T+1\",\"type\":\"INCREMENT\",\"side\":\"BID\",\"quotes\":{\"added\":[{\"id\":83902,\"price\":8.39,\"size\":2000000.0}],\"changed\":[],\"deleted\":[]}}', '{\"date\":\"2022-10-20T07:00:00.031000001\",\"instrument\":\"CNH/RUB_T+1\",\"type\":\"INCREMENT\",\"side\":\"ASK\",\"quotes\":{\"added\":[],\"changed\":[],\"deleted\":[]}}', '{\"date\":\"2022-10-20T07:00:00.031000003\",\"instrument\":\"CNH/RUB_T+1\",\"type\":\"INCREMENT\",\"side\":\"BID\",\"quotes\":{\"added\":[{\"id\":834603,\"price\":8.346,\"size\":4000000.0}],\"changed\":[],\"deleted\":[]}}', '{\"date\":\"2022-10-20T07:00:00.031000003\",\"instrument\":\"CNH/RUB_T+1\",\"type\":\"INCREMENT\",\"side\":\"ASK\",\"quotes\":{\"added\":[],\"changed\":[],\"deleted\":[]}}', '{\"date\":\"2022-10-20T07:00:00.032000002\",\"instrument\":\"CNH/RUB_T+1\",\"type\":\"INCREMENT\",\"side\":\"BID\",\"quotes\":{\"added\":[],\"changed\":[],\"deleted\":[]}}', '{\"date\":\"2022-10-20T07:00:00.032000002\",\"instrument\":\"CNH/RUB_T+1\",\"type\":\"INCREMENT\",\"side\":\"ASK\",\"quotes\":{\"added\":[{\"id\":851803,\"price\":8.518,\"size\":2000000.0}],\"changed\":[],\"deleted\":[]}}', '{\"date\":\"2022-10-20T07:00:00.033\",\"instrument\":\"CNH/RUB_T+1\",\"type\":\"INCREMENT\",\"side\":\"BID\",\"quotes\":{\"added\":[],\"changed\":[],\"deleted\":[]}}', '{\"date\":\"2022-10-20T07:00:00.033\",\"instrument\":\"CNH/RUB_T+1\",\"type\":\"INCREMENT\",\"side\":\"ASK\",\"quotes\":{\"added\":[{\"id\":856203,\"price\":8.562,\"size\":4000000.0}],\"changed\":[],\"deleted\":[]}}', '{\"date\":\"2022-10-20T07:00:00.059000006\",\"instrument\":\"CNH/RUB_T+1\",\"type\":\"INCREMENT\",\"side\":\"BID\",\"quotes\":{\"added\":[{\"id\":843603,\"price\":8.436,\"size\":50000.0}],\"changed\":[],\"deleted\":[]}}', '{\"date\":\"2022-10-20T07:00:00.059000006\",\"instrument\":\"CNH/RUB_T+1\",\"type\":\"INCREMENT\",\"side\":\"ASK\",\"quotes\":{\"added\":[{\"id\":847203,\"price\":8.472,\"size\":50000.0}],\"changed\":[],\"deleted\":[]}}', '{\"date\":\"2022-10-20T07:00:00.060000001\",\"instrument\":\"CNH/RUB_T+1\",\"type\":\"INCREMENT\",\"side\":\"BID\",\"quotes\":{\"added\":[],\"changed\":[],\"deleted\":[]}}', '{\"date\":\"2022-10-20T07:00:00.060000001\",\"instrument\":\"CNH/RUB_T+1\",\"type\":\"INCREMENT\",\"side\":\"ASK\",\"quotes\":{\"added\":[{\"id\":847403,\"price\":8.474,\"size\":167000.0}],\"changed\":[],\"deleted\":[]}}', '{\"date\":\"2022-10-20T07:00:00.061000003\",\"instrument\":\"CNH/RUB_T+1\",\"type\":\"INCREMENT\",\"side\":\"BID\",\"quotes\":{\"added\":[{\"id\":843703,\"price\":8.437,\"size\":380000.0}],\"changed\":[{\"id\":843503,\"price\":8.435,\"size\":400000.0}],\"deleted\":[]}}', '{\"date\":\"2022-10-20T07:00:00.061000003\",\"instrument\":\"CNH/RUB_T+1\",\"type\":\"INCREMENT\",\"side\":\"ASK\",\"quotes\":{\"added\":[{\"id\":847103,\"price\":8.471,\"size\":180000.0}],\"changed\":[{\"id\":847303,\"price\":8.473,\"size\":600000.0}],\"deleted\":[]}}', '{\"date\":\"2022-10-20T07:00:00.061000006\",\"instrument\":\"CNH/RUB_T+1\",\"type\":\"INCREMENT\",\"side\":\"BID\",\"quotes\":{\"added\":[],\"changed\":[{\"id\":843703,\"price\":8.437,\"size\":780000.0}],\"deleted\":[843503]}}', '{\"date\":\"2022-10-20T07:00:00.061000006\",\"instrument\":\"CNH/RUB_T+1\",\"type\":\"INCREMENT\",\"side\":\"ASK\",\"quotes\":{\"added\":[],\"changed\":[],\"deleted\":[]}}', '{\"date\":\"2022-10-20T07:00:00.062000001\",\"instrument\":\"CNH/RUB_T+1\",\"type\":\"INCREMENT\",\"side\":\"BID\",\"quotes\":{\"added\":[],\"changed\":[],\"deleted\":[]}}', '{\"date\":\"2022-10-20T07:00:00.062000001\",\"instrument\":\"CNH/RUB_T+1\",\"type\":\"INCREMENT\",\"side\":\"ASK\",\"quotes\":{\"added\":[{\"id\":855803,\"price\":8.558,\"size\":1414000.0}],\"changed\":[],\"deleted\":[856903]}}', '{\"date\":\"2022-10-20T07:00:00.062000002\",\"instrument\":\"CNH/RUB_T+1\",\"type\":\"INCREMENT\",\"side\":\"BID\",\"quotes\":{\"added\":[{\"id\":843803,\"price\":8.438,\"size\":50000.0}],\"changed\":[],\"deleted\":[]}}', '{\"date\":\"2022-10-20T07:00:00.062000002\",\"instrument\":\"CNH/RUB_T+1\",\"type\":\"INCREMENT\",\"side\":\"ASK\",\"quotes\":{\"added\":[{\"id\":84702,\"price\":8.47,\"size\":50000.0}],\"changed\":[],\"deleted\":[]}}', '{\"date\":\"2022-10-20T07:00:00.063000002\",\"instrument\":\"CNH/RUB_T+1\",\"type\":\"INCREMENT\",\"side\":\"BID\",\"quotes\":{\"added\":[{\"id\":843903,\"price\":8.439,\"size\":380000.0}],\"changed\":[{\"id\":843703,\"price\":8.437,\"size\":400000.0}],\"deleted\":[]}}', '{\"date\":\"2022-10-20T07:00:00.063000002\",\"instrument\":\"CNH/RUB_T+1\",\"type\":\"INCREMENT\",\"side\":\"ASK\",\"quotes\":{\"added\":[],\"changed\":[],\"deleted\":[]}}', '{\"date\":\"2022-10-20T07:00:00.063000004\",\"instrument\":\"CNH/RUB_T+1\",\"type\":\"INCREMENT\",\"side\":\"BID\",\"quotes\":{\"added\":[],\"changed\":[{\"id\":843903,\"price\":8.439,\"size\":780000.0}],\"deleted\":[843703]}}', '{\"date\":\"2022-10-20T07:00:00.063000004\",\"instrument\":\"CNH/RUB_T+1\",\"type\":\"INCREMENT\",\"side\":\"ASK\",\"quotes\":{\"added\":[],\"changed\":[],\"deleted\":[]}}', '{\"date\":\"2022-10-20T07:00:00.064000001\",\"instrument\":\"CNH/RUB_T+1\",\"type\":\"INCREMENT\",\"side\":\"BID\",\"quotes\":{\"added\":[],\"changed\":[],\"deleted\":[]}}', '{\"date\":\"2022-10-20T07:00:00.064000001\",\"instrument\":\"CNH/RUB_T+1\",\"type\":\"INCREMENT\",\"side\":\"ASK\",\"quotes\":{\"added\":[{\"id\":846903,\"price\":8.469,\"size\":180000.0}],\"changed\":[],\"deleted\":[847103]}}', '{\"date\":\"2022-10-20T07:00:00.064000002\",\"instrument\":\"CNH/RUB_T+1\",\"type\":\"INCREMENT\",\"side\":\"BID\",\"quotes\":{\"added\":[{\"id\":84402,\"price\":8.44,\"size\":50000.0}],\"changed\":[],\"deleted\":[843603]}}', '{\"date\":\"2022-10-20T07:00:00.064000002\",\"instrument\":\"CNH/RUB_T+1\",\"type\":\"INCREMENT\",\"side\":\"ASK\",\"quotes\":{\"added\":[],\"changed\":[],\"deleted\":[]}}', '{\"date\":\"2022-10-20T07:00:00.065000001\",\"instrument\":\"CNH/RUB_T+1\",\"type\":\"INCREMENT\",\"side\":\"BID\",\"quotes\":{\"added\":[],\"changed\":[],\"deleted\":[]}}', '{\"date\":\"2022-10-20T07:00:00.065000001\",\"instrument\":\"CNH/RUB_T+1\",\"type\":\"INCREMENT\",\"side\":\"ASK\",\"quotes\":{\"added\":[{\"id\":846803,\"price\":8.468,\"size\":50000.0}],\"changed\":[],\"deleted\":[847203]}}', '{\"date\":\"2022-10-20T07:00:00.065000003\",\"instrument\":\"CNH/RUB_T+1\",\"type\":\"INCREMENT\",\"side\":\"BID\",\"quotes\":{\"added\":[{\"id\":844103,\"price\":8.441,\"size\":780000.0}],\"changed\":[],\"deleted\":[843903]}}', '{\"date\":\"2022-10-20T07:00:00.065000003\",\"instrument\":\"CNH/RUB_T+1\",\"type\":\"INCREMENT\",\"side\":\"ASK\",\"quotes\":{\"added\":[],\"changed\":[],\"deleted\":[]}}', '{\"date\":\"2022-10-20T07:00:00.065000004\",\"instrument\":\"CNH/RUB_T+1\",\"type\":\"INCREMENT\",\"side\":\"BID\",\"quotes\":{\"added\":[],\"changed\":[],\"deleted\":[]}}', '{\"date\":\"2022-10-20T07:00:00.065000004\",\"instrument\":\"CNH/RUB_T+1\",\"type\":\"INCREMENT\",\"side\":\"ASK\",\"quotes\":{\"added\":[{\"id\":846703,\"price\":8.467,\"size\":180000.0}],\"changed\":[],\"deleted\":[846903]}}', '{\"date\":\"2022-10-20T07:00:00.066\",\"instrument\":\"CNH/RUB_T+1\",\"type\":\"INCREMENT\",\"side\":\"BID\",\"quotes\":{\"added\":[{\"id\":844203,\"price\":8.442,\"size\":50000.0}],\"changed\":[],\"deleted\":[843803]}}', '{\"date\":\"2022-10-20T07:00:00.066\",\"instrument\":\"CNH/RUB_T+1\",\"type\":\"INCREMENT\",\"side\":\"ASK\",\"quotes\":{\"added\":[],\"changed\":[],\"deleted\":[]}}', '{\"date\":\"2022-10-20T07:00:00.066000005\",\"instrument\":\"CNH/RUB_T+1\",\"type\":\"INCREMENT\",\"side\":\"BID\",\"quotes\":{\"added\":[{\"id\":844303,\"price\":8.443,\"size\":400000.0}],\"changed\":[{\"id\":844103,\"price\":8.441,\"size\":380000.0}],\"deleted\":[]}}', '{\"date\":\"2022-10-20T07:00:00.066000005\",\"instrument\":\"CNH/RUB_T+1\",\"type\":\"INCREMENT\",\"side\":\"ASK\",\"quotes\":{\"added\":[{\"id\":846603,\"price\":8.466,\"size\":50000.0}],\"changed\":[],\"deleted\":[84702]}}', '{\"date\":\"2022-10-20T07:00:00.067000001\",\"instrument\":\"CNH/RUB_T+1\",\"type\":\"INCREMENT\",\"side\":\"BID\",\"quotes\":{\"added\":[{\"id\":843503,\"price\":8.435,\"size\":180000.0}],\"changed\":[{\"id\":844303,\"price\":8.443,\"size\":600000.0}],\"deleted\":[844103]}}', '{\"date\":\"2022-10-20T07:00:00.067000001\",\"instrument\":\"CNH/RUB_T+1\",\"type\":\"INCREMENT\",\"side\":\"ASK\",\"quotes\":{\"added\":[],\"changed\":[],\"deleted\":[]}}', '{\"date\":\"2022-10-20T07:00:00.067000005\",\"instrument\":\"CNH/RUB_T+1\",\"type\":\"INCREMENT\",\"side\":\"BID\",\"quotes\":{\"added\":[{\"id\":844403,\"price\":8.444,\"size\":50000.0}],\"changed\":[],\"deleted\":[84402]}}', '{\"date\":\"2022-10-20T07:00:00.067000005\",\"instrument\":\"CNH/RUB_T+1\",\"type\":\"INCREMENT\",\"side\":\"ASK\",\"quotes\":{\"added\":[],\"changed\":[],\"deleted\":[]}}', '{\"date\":\"2022-10-20T07:00:00.068000002\",\"instrument\":\"CNH/RUB_T+1\",\"type\":\"INCREMENT\",\"side\":\"BID\",\"quotes\":{\"added\":[],\"changed\":[],\"deleted\":[]}}', '{\"date\":\"2022-10-20T07:00:00.068000002\",\"instrument\":\"CNH/RUB_T+1\",\"type\":\"INCREMENT\",\"side\":\"ASK\",\"quotes\":{\"added\":[],\"changed\":[{\"id\":847303,\"price\":8.473,\"size\":780000.0}],\"deleted\":[846703]}}', '{\"date\":\"2022-10-20T07:00:00.068000005\",\"instrument\":\"CNH/RUB_T+1\",\"type\":\"INCREMENT\",\"side\":\"BID\",\"quotes\":{\"added\":[{\"id\":839803,\"price\":8.398,\"size\":2000000.0}],\"changed\":[],\"deleted\":[83902]}}', '{\"date\":\"2022-10-20T07:00:00.068000005\",\"instrument\":\"CNH/RUB_T+1\",\"type\":\"INCREMENT\",\"side\":\"ASK\",\"quotes\":{\"added\":[],\"changed\":[],\"deleted\":[]}}', '{\"date\":\"2022-10-20T07:00:00.068000008\",\"instrument\":\"CNH/RUB_T+1\",\"type\":\"INCREMENT\",\"side\":\"BID\",\"quotes\":{\"added\":[],\"changed\":[{\"id\":843503,\"price\":8.435,\"size\":780000.0}],\"deleted\":[844303]}}', '{\"date\":\"2022-10-20T07:00:00.068000008\",\"instrument\":\"CNH/RUB_T+1\",\"type\":\"INCREMENT\",\"side\":\"ASK\",\"quotes\":{\"added\":[],\"changed\":[],\"deleted\":[]}}', '{\"date\":\"2022-10-20T07:00:00.069000002\",\"instrument\":\"CNH/RUB_T+1\",\"type\":\"INCREMENT\",\"side\":\"BID\",\"quotes\":{\"added\":[{\"id\":835403,\"price\":8.354,\"size\":4000000.0}],\"changed\":[],\"deleted\":[834603]}}', '{\"date\":\"2022-10-20T07:00:00.069000002\",\"instrument\":\"CNH/RUB_T+1\",\"type\":\"INCREMENT\",\"side\":\"ASK\",\"quotes\":{\"added\":[],\"changed\":[],\"deleted\":[]}}', '{\"date\":\"2022-10-20T07:00:00.069000004\",\"instrument\":\"CNH/RUB_T+1\",\"type\":\"INCREMENT\",\"side\":\"BID\",\"quotes\":{\"added\":[],\"changed\":[],\"deleted\":[]}}', '{\"date\":\"2022-10-20T07:00:00.069000004\",\"instrument\":\"CNH/RUB_T+1\",\"type\":\"INCREMENT\",\"side\":\"ASK\",\"quotes\":{\"added\":[{\"id\":85102,\"price\":8.51,\"size\":2000000.0}],\"changed\":[],\"deleted\":[851803]}}', '{\"date\":\"2022-10-20T07:00:00.070000001\",\"instrument\":\"CNH/RUB_T+1\",\"type\":\"INCREMENT\",\"side\":\"BID\",\"quotes\":{\"added\":[],\"changed\":[],\"deleted\":[]}}', '{\"date\":\"2022-10-20T07:00:00.070000001\",\"instrument\":\"CNH/RUB_T+1\",\"type\":\"INCREMENT\",\"side\":\"ASK\",\"quotes\":{\"added\":[{\"id\":855403,\"price\":8.554,\"size\":4000000.0}],\"changed\":[],\"deleted\":[856203]}}', '{\"date\":\"2022-10-20T07:00:00.070000007\",\"instrument\":\"CNH/RUB_T+1\",\"type\":\"INCREMENT\",\"side\":\"BID\",\"quotes\":{\"added\":[],\"changed\":[],\"deleted\":[]}}', '{\"date\":\"2022-10-20T07:00:00.070000007\",\"instrument\":\"CNH/RUB_T+1\",\"type\":\"INCREMENT\",\"side\":\"ASK\",\"quotes\":{\"added\":[{\"id\":855303,\"price\":8.553,\"size\":1414000.0}],\"changed\":[],\"deleted\":[855803]}}', '{\"date\":\"2022-10-20T07:00:00.073000002\",\"instrument\":\"CNH/RUB_T+1\",\"type\":\"INCREMENT\",\"side\":\"BID\",\"quotes\":{\"added\":[],\"changed\":[],\"deleted\":[]}}', '{\"date\":\"2022-10-20T07:00:00.073000002\",\"instrument\":\"CNH/RUB_T+1\",\"type\":\"INCREMENT\",\"side\":\"ASK\",\"quotes\":{\"added\":[{\"id\":85502,\"price\":8.55,\"size\":1010000.0}],\"changed\":[],\"deleted\":[855303]}}', '{\"date\":\"2022-10-20T07:00:00.075000004\",\"instrument\":\"CNH/RUB_T+1\",\"type\":\"INCREMENT\",\"side\":\"BID\",\"quotes\":{\"added\":[],\"changed\":[],\"deleted\":[]}}', '{\"date\":\"2022-10-20T07:00:00.075000004\",\"instrument\":\"CNH/RUB_T+1\",\"type\":\"INCREMENT\",\"side\":\"ASK\",\"quotes\":{\"added\":[{\"id\":854903,\"price\":8.549,\"size\":1010000.0}],\"changed\":[],\"deleted\":[85502]}}', '{\"date\":\"2022-10-20T07:00:00.082000001\",\"instrument\":\"CNH/RUB_T+1\",\"type\":\"INCREMENT\",\"side\":\"BID\",\"quotes\":{\"added\":[],\"changed\":[{\"id\":844403,\"price\":8.444,\"size\":46000.0}],\"deleted\":[]}}', '{\"date\":\"2022-10-20T07:00:00.082000001\",\"instrument\":\"CNH/RUB_T+1\",\"type\":\"INCREMENT\",\"side\":\"ASK\",\"quotes\":{\"added\":[],\"changed\":[],\"deleted\":[]}}', '{\"date\":\"2022-10-20T07:00:00.085000001\",\"instrument\":\"CNH/RUB_T+1\",\"type\":\"INCREMENT\",\"side\":\"BID\",\"quotes\":{\"added\":[],\"changed\":[],\"deleted\":[]}}', '{\"date\":\"2022-10-20T07:00:00.085000001\",\"instrument\":\"CNH/RUB_T+1\",\"type\":\"INCREMENT\",\"side\":\"ASK\",\"quotes\":{\"added\":[],\"changed\":[{\"id\":846603,\"price\":8.466,\"size\":49000.0}],\"deleted\":[]}}', '{\"date\":\"2022-10-20T07:00:00.086000003\",\"instrument\":\"CNH/RUB_T+1\",\"type\":\"INCREMENT\",\"side\":\"BID\",\"quotes\":{\"added\":[{\"id\":843603,\"price\":8.436,\"size\":50000.0}],\"changed\":[],\"deleted\":[]}}', '{\"date\":\"2022-10-20T07:00:00.086000003\",\"instrument\":\"CNH/RUB_T+1\",\"type\":\"INCREMENT\",\"side\":\"ASK\",\"quotes\":{\"added\":[],\"changed\":[],\"deleted\":[]}}', '{\"date\":\"2022-10-20T07:00:00.086000005\",\"instrument\":\"CNH/RUB_T+1\",\"type\":\"INCREMENT\",\"side\":\"BID\",\"quotes\":{\"added\":[],\"changed\":[],\"deleted\":[844203]}}', '{\"date\":\"2022-10-20T07:00:00.086000005\",\"instrument\":\"CNH/RUB_T+1\",\"type\":\"INCREMENT\",\"side\":\"ASK\",\"quotes\":{\"added\":[{\"id\":847203,\"price\":8.472,\"size\":50000.0}],\"changed\":[],\"deleted\":[846803]}}', '{\"date\":\"2022-10-20T07:00:00.087000002\",\"instrument\":\"CNH/RUB_T+1\",\"type\":\"INCREMENT\",\"side\":\"BID\",\"quotes\":{\"added\":[{\"id\":843703,\"price\":8.437,\"size\":780000.0}],\"changed\":[],\"deleted\":[843503]}}', '{\"date\":\"2022-10-20T07:00:00.087000002\",\"instrument\":\"CNH/RUB_T+1\",\"type\":\"INCREMENT\",\"side\":\"ASK\",\"quotes\":{\"added\":[],\"changed\":[],\"deleted\":[]}}', '{\"date\":\"2022-10-20T07:00:00.088\",\"instrument\":\"CNH/RUB_T+1\",\"type\":\"INCREMENT\",\"side\":\"BID\",\"quotes\":{\"added\":[{\"id\":843803,\"price\":8.438,\"size\":50000.0}],\"changed\":[],\"deleted\":[843603]}}', '{\"date\":\"2022-10-20T07:00:00.088\",\"instrument\":\"CNH/RUB_T+1\",\"type\":\"INCREMENT\",\"side\":\"ASK\",\"quotes\":{\"added\":[{\"id\":847103,\"price\":8.471,\"size\":180000.0}],\"changed\":[{\"id\":847303,\"price\":8.473,\"size\":600000.0}],\"deleted\":[]}}', '{\"date\":\"2022-10-20T07:00:00.088000002\",\"instrument\":\"CNH/RUB_T+1\",\"type\":\"INCREMENT\",\"side\":\"BID\",\"quotes\":{\"added\":[],\"changed\":[{\"id\":844403,\"price\":8.444,\"size\":45000.0}],\"deleted\":[]}}', '{\"date\":\"2022-10-20T07:00:00.088000002\",\"instrument\":\"CNH/RUB_T+1\",\"type\":\"INCREMENT\",\"side\":\"ASK\",\"quotes\":{\"added\":[],\"changed\":[],\"deleted\":[]}}', '{\"date\":\"2022-10-20T07:00:00.088000007\",\"instrument\":\"CNH/RUB_T+1\",\"type\":\"INCREMENT\",\"side\":\"BID\",\"quotes\":{\"added\":[{\"id\":843503,\"price\":8.435,\"size\":380000.0}],\"changed\":[{\"id\":843703,\"price\":8.437,\"size\":400000.0}],\"deleted\":[]}}', '{\"date\":\"2022-10-20T07:00:00.088000007\",\"instrument\":\"CNH/RUB_T+1\",\"type\":\"INCREMENT\",\"side\":\"ASK\",\"quotes\":{\"added\":[{\"id\":84702,\"price\":8.47,\"size\":50000.0}],\"changed\":[],\"deleted\":[847203]}}', '{\"date\":\"2022-10-20T07:00:00.089000001\",\"instrument\":\"CNH/RUB_T+1\",\"type\":\"INCREMENT\",\"side\":\"BID\",\"quotes\":{\"added\":[],\"changed\":[{\"id\":843503,\"price\":8.435,\"size\":780000.0}],\"deleted\":[843703]}}', '{\"date\":\"2022-10-20T07:00:00.089000001\",\"instrument\":\"CNH/RUB_T+1\",\"type\":\"INCREMENT\",\"side\":\"ASK\",\"quotes\":{\"added\":[],\"changed\":[],\"deleted\":[]}}', '{\"date\":\"2022-10-20T07:00:00.089000003\",\"instrument\":\"CNH/RUB_T+1\",\"type\":\"INCREMENT\",\"side\":\"BID\",\"quotes\":{\"added\":[],\"changed\":[],\"deleted\":[]}}', '{\"date\":\"2022-10-20T07:00:00.089000003\",\"instrument\":\"CNH/RUB_T+1\",\"type\":\"INCREMENT\",\"side\":\"ASK\",\"quotes\":{\"added\":[],\"changed\":[{\"id\":847303,\"price\":8.473,\"size\":780000.0}],\"deleted\":[847103]}}', '{\"date\":\"2022-10-20T07:00:00.090\",\"instrument\":\"CNH/RUB_T+1\",\"type\":\"INCREMENT\",\"side\":\"BID\",\"quotes\":{\"added\":[{\"id\":843603,\"price\":8.436,\"size\":50000.0}],\"changed\":[],\"deleted\":[]}}', '{\"date\":\"2022-10-20T07:00:00.090\",\"instrument\":\"CNH/RUB_T+1\",\"type\":\"INCREMENT\",\"side\":\"ASK\",\"quotes\":{\"added\":[],\"changed\":[],\"deleted\":[]}}', '{\"date\":\"2022-10-20T07:00:00.090000003\",\"instrument\":\"CNH/RUB_T+1\",\"type\":\"INCREMENT\",\"side\":\"BID\",\"quotes\":{\"added\":[],\"changed\":[],\"deleted\":[843803]}}', '{\"date\":\"2022-10-20T07:00:00.090000003\",\"instrument\":\"CNH/RUB_T+1\",\"type\":\"INCREMENT\",\"side\":\"ASK\",\"quotes\":{\"added\":[],\"changed\":[],\"deleted\":[]}}']\n"
     ]
    }
   ],
   "source": [
    "print(data_objects[0:100])\n"
   ]
  },
  {
   "cell_type": "code",
   "execution_count": 4,
   "metadata": {},
   "outputs": [
    {
     "name": "stdout",
     "output_type": "stream",
     "text": [
      "2583629\n"
     ]
    }
   ],
   "source": [
    "print(len(data_objects))"
   ]
  },
  {
   "cell_type": "code",
   "execution_count": 7,
   "metadata": {},
   "outputs": [
    {
     "name": "stdout",
     "output_type": "stream",
     "text": [
      "1\n",
      "2\n",
      "3\n",
      "4\n",
      "5\n",
      "6\n",
      "7\n",
      "8\n",
      "9\n",
      "10\n",
      "11\n",
      "12\n",
      "13\n",
      "14\n",
      "15\n",
      "16\n",
      "17\n",
      "18\n",
      "19\n",
      "20\n"
     ]
    }
   ],
   "source": [
    "i = 0\n",
    "list_objects = []\n",
    "for obj in data_objects:\n",
    "    i+=1\n",
    "    # Check if obj is not an empty string\n",
    "    if obj.strip():\n",
    "        data = json.loads(obj)\n",
    "        list_objects.append(data)\n",
    "        if (i % 100000 == 0):\n",
    "            print(i//100000)"
   ]
  },
  {
   "cell_type": "code",
   "execution_count": 5,
   "metadata": {},
   "outputs": [
    {
     "ename": "KeyboardInterrupt",
     "evalue": "",
     "output_type": "error",
     "traceback": [
      "\u001b[0;31m---------------------------------------------------------------------------\u001b[0m",
      "\u001b[0;31mKeyboardInterrupt\u001b[0m                         Traceback (most recent call last)",
      "\u001b[1;32m/home/jon/vega/glass/glass_parser.ipynb Cell 3\u001b[0m in \u001b[0;36m<cell line: 9>\u001b[0;34m()\u001b[0m\n\u001b[1;32m      <a href='vscode-notebook-cell://wsl%2Bubuntu/home/jon/vega/glass/glass_parser.ipynb#W2sdnNjb2RlLXJlbW90ZQ%3D%3D?line=8'>9</a>\u001b[0m \u001b[39mfor\u001b[39;00m obj \u001b[39min\u001b[39;00m data_objects:\n\u001b[1;32m     <a href='vscode-notebook-cell://wsl%2Bubuntu/home/jon/vega/glass/glass_parser.ipynb#W2sdnNjb2RlLXJlbW90ZQ%3D%3D?line=9'>10</a>\u001b[0m     \u001b[39m# Check if obj is not an empty string\u001b[39;00m\n\u001b[1;32m     <a href='vscode-notebook-cell://wsl%2Bubuntu/home/jon/vega/glass/glass_parser.ipynb#W2sdnNjb2RlLXJlbW90ZQ%3D%3D?line=10'>11</a>\u001b[0m     \u001b[39mif\u001b[39;00m obj\u001b[39m.\u001b[39mstrip():\n\u001b[0;32m---> <a href='vscode-notebook-cell://wsl%2Bubuntu/home/jon/vega/glass/glass_parser.ipynb#W2sdnNjb2RlLXJlbW90ZQ%3D%3D?line=11'>12</a>\u001b[0m         data \u001b[39m=\u001b[39m json\u001b[39m.\u001b[39;49mloads(obj)\n\u001b[1;32m     <a href='vscode-notebook-cell://wsl%2Bubuntu/home/jon/vega/glass/glass_parser.ipynb#W2sdnNjb2RlLXJlbW90ZQ%3D%3D?line=12'>13</a>\u001b[0m         list_objects\u001b[39m.\u001b[39mappend(data)\n",
      "File \u001b[0;32m~/anaconda3/lib/python3.9/json/__init__.py:346\u001b[0m, in \u001b[0;36mloads\u001b[0;34m(s, cls, object_hook, parse_float, parse_int, parse_constant, object_pairs_hook, **kw)\u001b[0m\n\u001b[1;32m    341\u001b[0m     s \u001b[39m=\u001b[39m s\u001b[39m.\u001b[39mdecode(detect_encoding(s), \u001b[39m'\u001b[39m\u001b[39msurrogatepass\u001b[39m\u001b[39m'\u001b[39m)\n\u001b[1;32m    343\u001b[0m \u001b[39mif\u001b[39;00m (\u001b[39mcls\u001b[39m \u001b[39mis\u001b[39;00m \u001b[39mNone\u001b[39;00m \u001b[39mand\u001b[39;00m object_hook \u001b[39mis\u001b[39;00m \u001b[39mNone\u001b[39;00m \u001b[39mand\u001b[39;00m\n\u001b[1;32m    344\u001b[0m         parse_int \u001b[39mis\u001b[39;00m \u001b[39mNone\u001b[39;00m \u001b[39mand\u001b[39;00m parse_float \u001b[39mis\u001b[39;00m \u001b[39mNone\u001b[39;00m \u001b[39mand\u001b[39;00m\n\u001b[1;32m    345\u001b[0m         parse_constant \u001b[39mis\u001b[39;00m \u001b[39mNone\u001b[39;00m \u001b[39mand\u001b[39;00m object_pairs_hook \u001b[39mis\u001b[39;00m \u001b[39mNone\u001b[39;00m \u001b[39mand\u001b[39;00m \u001b[39mnot\u001b[39;00m kw):\n\u001b[0;32m--> 346\u001b[0m     \u001b[39mreturn\u001b[39;00m _default_decoder\u001b[39m.\u001b[39;49mdecode(s)\n\u001b[1;32m    347\u001b[0m \u001b[39mif\u001b[39;00m \u001b[39mcls\u001b[39m \u001b[39mis\u001b[39;00m \u001b[39mNone\u001b[39;00m:\n\u001b[1;32m    348\u001b[0m     \u001b[39mcls\u001b[39m \u001b[39m=\u001b[39m JSONDecoder\n",
      "File \u001b[0;32m~/anaconda3/lib/python3.9/json/decoder.py:337\u001b[0m, in \u001b[0;36mJSONDecoder.decode\u001b[0;34m(self, s, _w)\u001b[0m\n\u001b[1;32m    332\u001b[0m \u001b[39mdef\u001b[39;00m \u001b[39mdecode\u001b[39m(\u001b[39mself\u001b[39m, s, _w\u001b[39m=\u001b[39mWHITESPACE\u001b[39m.\u001b[39mmatch):\n\u001b[1;32m    333\u001b[0m     \u001b[39m\"\"\"Return the Python representation of ``s`` (a ``str`` instance\u001b[39;00m\n\u001b[1;32m    334\u001b[0m \u001b[39m    containing a JSON document).\u001b[39;00m\n\u001b[1;32m    335\u001b[0m \n\u001b[1;32m    336\u001b[0m \u001b[39m    \"\"\"\u001b[39;00m\n\u001b[0;32m--> 337\u001b[0m     obj, end \u001b[39m=\u001b[39m \u001b[39mself\u001b[39;49m\u001b[39m.\u001b[39;49mraw_decode(s, idx\u001b[39m=\u001b[39;49m_w(s, \u001b[39m0\u001b[39;49m)\u001b[39m.\u001b[39;49mend())\n\u001b[1;32m    338\u001b[0m     end \u001b[39m=\u001b[39m _w(s, end)\u001b[39m.\u001b[39mend()\n\u001b[1;32m    339\u001b[0m     \u001b[39mif\u001b[39;00m end \u001b[39m!=\u001b[39m \u001b[39mlen\u001b[39m(s):\n",
      "File \u001b[0;32m~/anaconda3/lib/python3.9/json/decoder.py:353\u001b[0m, in \u001b[0;36mJSONDecoder.raw_decode\u001b[0;34m(self, s, idx)\u001b[0m\n\u001b[1;32m    344\u001b[0m \u001b[39m\"\"\"Decode a JSON document from ``s`` (a ``str`` beginning with\u001b[39;00m\n\u001b[1;32m    345\u001b[0m \u001b[39ma JSON document) and return a 2-tuple of the Python\u001b[39;00m\n\u001b[1;32m    346\u001b[0m \u001b[39mrepresentation and the index in ``s`` where the document ended.\u001b[39;00m\n\u001b[0;32m   (...)\u001b[0m\n\u001b[1;32m    350\u001b[0m \n\u001b[1;32m    351\u001b[0m \u001b[39m\"\"\"\u001b[39;00m\n\u001b[1;32m    352\u001b[0m \u001b[39mtry\u001b[39;00m:\n\u001b[0;32m--> 353\u001b[0m     obj, end \u001b[39m=\u001b[39m \u001b[39mself\u001b[39;49m\u001b[39m.\u001b[39;49mscan_once(s, idx)\n\u001b[1;32m    354\u001b[0m \u001b[39mexcept\u001b[39;00m \u001b[39mStopIteration\u001b[39;00m \u001b[39mas\u001b[39;00m err:\n\u001b[1;32m    355\u001b[0m     \u001b[39mraise\u001b[39;00m JSONDecodeError(\u001b[39m\"\u001b[39m\u001b[39mExpecting value\u001b[39m\u001b[39m\"\u001b[39m, s, err\u001b[39m.\u001b[39mvalue) \u001b[39mfrom\u001b[39;00m \u001b[39mNone\u001b[39m\n",
      "\u001b[0;31mKeyboardInterrupt\u001b[0m: "
     ]
    }
   ],
   "source": []
  },
  {
   "cell_type": "code",
   "execution_count": null,
   "metadata": {},
   "outputs": [],
   "source": [
    "d = {'date':[],\n",
    "     'side':[],\n",
    "     'id':[],\n",
    "     'price':[],\n",
    "     'size':[]}\n",
    "\n",
    "\n",
    "for obj in list_objects:\n",
    "    \n",
    "    if obj['type'] == 'INCREMENT':\n",
    "        \n",
    "        if obj['quotes']['added']:\n",
    "            for i in range(len(obj['quotes']['added'])):\n",
    "                d['date'].append(obj['date'])\n",
    "                d['side'].append(obj['side'])\n",
    "                d['id'].append(obj['quotes']['added'][0]['id'])\n",
    "                d['price'].append(obj['quotes']['added'][0]['price'])\n",
    "                d['size'].append(obj['quotes']['added'][0]['size'])\n",
    "            \n",
    "        if obj['quotes']['changed']:\n",
    "            for i in range(len(obj['quotes']['changed'])):\n",
    "                d['date'].append(obj['date'])\n",
    "                d['side'].append(obj['side'])\n",
    "                d['id'].append(obj['quotes']['changed'][i]['id'])\n",
    "                d['price'].append(obj['quotes']['changed'][i]['price'])\n",
    "                d['size'].append(obj['quotes']['changed'][i]['size'])\n",
    "    \n",
    "        else:\n",
    "            continue"
   ]
  }
 ],
 "metadata": {
  "kernelspec": {
   "display_name": "Python 3",
   "language": "python",
   "name": "python3"
  },
  "language_info": {
   "codemirror_mode": {
    "name": "ipython",
    "version": 3
   },
   "file_extension": ".py",
   "mimetype": "text/x-python",
   "name": "python",
   "nbconvert_exporter": "python",
   "pygments_lexer": "ipython3",
   "version": "3.9.12"
  },
  "orig_nbformat": 4
 },
 "nbformat": 4,
 "nbformat_minor": 2
}
